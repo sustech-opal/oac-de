{
 "cells": [
  {
   "cell_type": "markdown",
   "metadata": {},
   "source": [
    "# OAC-DE tutorial"
   ]
  },
  {
   "cell_type": "markdown",
   "metadata": {},
   "source": [
    "## Step 1\n",
    "\n",
    "Let's start by selecting a testing function from bbob benchmark, you'll get an object of `<class Benchmark>`:"
   ]
  },
  {
   "cell_type": "code",
   "execution_count": 1,
   "metadata": {},
   "outputs": [
    {
     "name": "stdout",
     "output_type": "stream",
     "text": [
      "<oacde.problems.problem.Benchmark object at 0x00000144CB3FDC40>\n"
     ]
    }
   ],
   "source": [
    "import time\n",
    "import oacde\n",
    "\n",
    "tik = time.time()\n",
    "seed = 0\n",
    "\n",
    "## 1. Problem Configuration\n",
    "benchmark = \"bbob2015\"\n",
    "D = 10\n",
    "funID = 7 # 8 9 Rosenbrock , 15 Rastrigin\n",
    "problem = oacde.problem.Benchmark(benchmark_set=benchmark, D=D, funID=funID, instanceID=1)\n",
    "print(problem)"
   ]
  },
  {
   "cell_type": "markdown",
   "metadata": {},
   "source": [
    "## Step 2\n",
    "\n",
    "Next, we need to initialize the DE's hyperparameters:"
   ]
  },
  {
   "cell_type": "code",
   "execution_count": 2,
   "metadata": {},
   "outputs": [
    {
     "name": "stdout",
     "output_type": "stream",
     "text": [
      "`_rng`: RandomState(MT19937)\n",
      "`seed`: 0\n",
      "`_N`: Number of individuals\n",
      "\tType: Integer\n",
      "\tValue: 24\n",
      "\tRange: [0, 9223372036854775808)\n",
      "`_initial_scheme`: Initialization scheme\n",
      "\tType: String\n",
      "\tValue: latin_hypercube\n",
      "\tAllowable options: ('latin_hypercube', 'random')\n",
      "\tDefault: latin_hypercube\n",
      "`_update_scheme`: Update scheme\n",
      "\tType: String\n",
      "\tValue: immediate\n",
      "\tAllowable options: ('immediate', 'deferred')\n",
      "\tDefault: immediate\n",
      "`_record_position`: Position recording\n",
      "\tType: Boolean\n",
      "\tValue: False\n",
      "\tAllowable options: (True, False)\n",
      "\tDefault: False\n",
      "`_F`: Scaling factor\n",
      "\tType: Float\n",
      "\tValue: 0.75\n",
      "\tRange: [0.0, 2.0)\n",
      "\tDefault: 0.75\n",
      "`_CR`: Crossover rate\n",
      "\tType: Float\n",
      "\tValue: 0.7\n",
      "\tRange: [0.0, 1.0)\n",
      "\tDefault: 0.7\n",
      "`_mutation`: Mutation scheme\n",
      "\tType: String\n",
      "\tValue: de/rand/1\n",
      "\tAllowable options: ('de/rand/1', 'de/rand/2', 'de/best/1', 'de/best/2', 'de/current/1', 'de/rand-to-best/1', 'de/current-to-best/1', 'de/current-to-rand/1', 'de/current-to-best/2', 'de/current-to-pbest/1', 'de/rand-to-pbest/1')\n",
      "\tDefault: de/best/1\n",
      "`_crossover`: Crossover scheme\n",
      "\tType: String\n",
      "\tValue: bin\n",
      "\tAllowable options: ('bin', 'exp', 'eig', 'none')\n",
      "\tDefault: bin\n",
      "`_generation_strategy`: Generation strategy\n",
      "\tType: Dict\n",
      "\tValue: None\n",
      "\tValues: [{}]\n",
      "\tAllowable options: ('de/rand/1', 'de/rand/2', 'de/best/1', 'de/best/2', 'de/current/1', 'de/rand-to-best/1', 'de/current-to-best/1', 'de/current-to-rand/1', 'de/current-to-best/2', 'de/current-to-pbest/1', 'de/rand-to-pbest/1', 'bin', 'exp', 'eig', 'none')\n",
      "`_F_CR_pair`: Pair of `F` and `CR`\n",
      "\tType: Dict\n",
      "\tValue: None\n",
      "\tValues: [{}]\n",
      "\tRange: [0.0, 2.0)\n"
     ]
    }
   ],
   "source": [
    "NP = 24\n",
    "config = oacde.publics.parameterize.DE(seed = seed,\n",
    "                    N = NP,\n",
    "                    mutation='de/rand/1'\n",
    "                    )\n",
    "print(config)"
   ]
  },
  {
   "cell_type": "markdown",
   "metadata": {},
   "source": [
    "As well as stop conditions:"
   ]
  },
  {
   "cell_type": "code",
   "execution_count": 3,
   "metadata": {},
   "outputs": [
    {
     "name": "stdout",
     "output_type": "stream",
     "text": [
      "`_max_FES`: Maximum Function Evaluations\n",
      "\tType: Float\n",
      "\tValue: 24000.0\n",
      "\tRange: [1.0, inf)\n",
      "\tDefault: 1e+308\n",
      "`_max_iter`: Maximum Iterations\n",
      "\tType: Float\n",
      "\tValue: 1e+308\n",
      "\tRange: [1.0, inf)\n",
      "\tDefault: 1e+308\n",
      "`_delta_ftarget`: Difference between the target and the theoretical optimum\n",
      "\tType: Float\n",
      "\tValue: 1e-08\n",
      "\tRange: [0.0, inf)\n",
      "\tDefault: 2.2250738585072014e-308\n",
      "`_ftarget`: Target value of the objective function\n",
      "\tType: Float\n",
      "\tValue: None\n",
      "\tRange: [-inf, inf)\n",
      "`_condition_limit`: Target value of the objective function\n",
      "\tType: Float\n",
      "\tValue: 10000000.0\n",
      "\tRange: [0.0, inf)\n",
      "\tDefault: 10000000.0\n"
     ]
    }
   ],
   "source": [
    "stop = oacde.publics.parameterize.StopCondition(max_FES=1000.*NP, max_iter=None, delta_ftarget=1e-8)\n",
    "print(stop)"
   ]
  },
  {
   "cell_type": "markdown",
   "metadata": {},
   "source": [
    "## Step 3\n",
    "\n",
    "Now, you can personalize the OAC-DE's parameters such as the mutation operators, the crossover operators, ..."
   ]
  },
  {
   "cell_type": "code",
   "execution_count": 4,
   "metadata": {},
   "outputs": [],
   "source": [
    "optimizer = oacde.OACDE(opt_problem=problem,\n",
    "                        algo_parameters=config,\n",
    "                        stop_conditions=stop,\n",
    "                        mut_pool=[\n",
    "                        \"de/rand/1\",\n",
    "                        \"de/rand/2\",\n",
    "                        \"de/best/2\",\n",
    "                        \"de/current-to-best/2\",\n",
    "                        \"de/current-to-rand/1\",\n",
    "                        \"de/current-to-pbest/1\",\n",
    "                        ],\n",
    "                        cx_pool=[\"bin\", \"exp\"],\n",
    "                        tuning_level=\"individual_level\",\n",
    "                        F_range=(0.0, 1.0),\n",
    "                        CR_range=(0.0, 1.0),\n",
    "                        model_utilization_strategy=\"success\",\n",
    "                        stagnation_gen=10,\n",
    "                        KDE_kernel=\"gaussian\",\n",
    "                        KDE_width=1/3,\n",
    "                        KDE_max_size=None,\n",
    "                        MAB_algo=\"ucb\",\n",
    "                        MAB_value_method=\"sample_average\",\n",
    "                        epsilon=0.2,\n",
    "                        temperature=None,\n",
    "                        sliding_window_size=None, # required for\n",
    "                                                  # \"sliding_window_average\"\n",
    "                        )"
   ]
  },
  {
   "cell_type": "markdown",
   "metadata": {},
   "source": [
    "Then, you can solve the optimization problem by running `solve()` method. If you want to follow the result step by step, you can set `solve(disp=True)`:"
   ]
  },
  {
   "cell_type": "code",
   "execution_count": 5,
   "metadata": {},
   "outputs": [],
   "source": [
    "results = optimizer.solve()\n",
    "\n",
    "tok = time.time()"
   ]
  },
  {
   "cell_type": "markdown",
   "metadata": {},
   "source": [
    "## Step 4 (Optional)\n",
    "\n",
    "If you want to save the results permanently, you can use `save()` method. It will save the configurations, the stop conditions, the iteration history, and the final optimum to a JSON file. (In this example, a file named \"BBOB2015-F7(I1), D=10_OACDE\" will be created in the current folder.)"
   ]
  },
  {
   "cell_type": "code",
   "execution_count": 6,
   "metadata": {},
   "outputs": [],
   "source": [
    "optimizer.save()"
   ]
  },
  {
   "cell_type": "markdown",
   "metadata": {},
   "source": [
    "## Step 5 (Optional)\n",
    "\n",
    "Or you can just view the results on your screen like:"
   ]
  },
  {
   "cell_type": "code",
   "execution_count": 7,
   "metadata": {},
   "outputs": [
    {
     "name": "stdout",
     "output_type": "stream",
     "text": [
      "\tElapsed Time: 4.25s\n",
      "\tCalculated results: (array([-0.04165458,  0.76147019,  0.27006614,  3.18187312,  2.44765681,\n",
      "        3.76168523,  1.70426389, -2.38315949,  3.66923105,  2.05417579]), 92.97516698441356)\n",
      "\tTheoretical optimal value: 92.94\n",
      "\tRelative error: 0.03516698441356425\n",
      "       nth    FES                                             x_best  \\\n",
      "0        0      0  [4.162641228081959, 1.855642784449195, 1.01494...   \n",
      "1        1     24  [4.162641228081959, 1.855642784449195, 1.01494...   \n",
      "2        2     48  [4.162641228081959, 1.855642784449195, 1.01494...   \n",
      "3        3     72  [4.162641228081959, 1.855642784449195, 1.01494...   \n",
      "4        4     96  [-3.6397684949564058, -2.4540103578482064, 4.7...   \n",
      "...    ...    ...                                                ...   \n",
      "996    996  23904  [-0.042021903820230334, 0.7485667722822352, 0....   \n",
      "997    997  23928  [-0.042021903820230334, 0.7485667722822352, 0....   \n",
      "998    998  23952  [-0.042021903820230334, 0.7485667722822352, 0....   \n",
      "999    999  23976  [-0.042021903820230334, 0.7485667722822352, 0....   \n",
      "1000  1000  24000  [-0.042021903820230334, 0.7485667722822352, 0....   \n",
      "\n",
      "          f_best       f_mean  \\\n",
      "0     482.030012  1723.310949   \n",
      "1     482.030012  1416.152303   \n",
      "2     482.030012  1328.138774   \n",
      "3     482.030012  1214.228518   \n",
      "4     427.488039   1018.46613   \n",
      "...          ...          ...   \n",
      "996    92.975167    92.978721   \n",
      "997    92.975167    92.978515   \n",
      "998    92.975167    92.978515   \n",
      "999    92.975167    92.978515   \n",
      "1000   92.975167    92.978515   \n",
      "\n",
      "                                                  x_opt       f_opt  \\\n",
      "0     [4.162641228081959, 1.855642784449195, 1.01494...  482.030012   \n",
      "1     [4.162641228081959, 1.855642784449195, 1.01494...  482.030012   \n",
      "2     [4.162641228081959, 1.855642784449195, 1.01494...  482.030012   \n",
      "3     [4.162641228081959, 1.855642784449195, 1.01494...  482.030012   \n",
      "4     [-3.6397684949564058, -2.4540103578482064, 4.7...  427.488039   \n",
      "...                                                 ...         ...   \n",
      "996   [-0.04165458323083722, 0.7614701915483907, 0.2...   92.975167   \n",
      "997   [-0.04165458323083722, 0.7614701915483907, 0.2...   92.975167   \n",
      "998   [-0.04165458323083722, 0.7614701915483907, 0.2...   92.975167   \n",
      "999   [-0.04165458323083722, 0.7614701915483907, 0.2...   92.975167   \n",
      "1000  [-0.04165458323083722, 0.7614701915483907, 0.2...   92.975167   \n",
      "\n",
      "                                               used_MUT  \\\n",
      "0                                                         \n",
      "1     [de/best/2, de/best/2, de/best/2, de/best/2, d...   \n",
      "2     [de/best/2, de/best/2, de/best/2, de/best/2, d...   \n",
      "3     [de/best/2, de/best/2, de/best/2, de/best/2, d...   \n",
      "4     [de/best/2, de/best/2, de/best/2, de/best/2, d...   \n",
      "...                                                 ...   \n",
      "996   [de/best/2, de/best/2, de/best/2, de/best/2, d...   \n",
      "997   [de/best/2, de/best/2, de/best/2, de/best/2, d...   \n",
      "998   [de/best/2, de/best/2, de/best/2, de/best/2, d...   \n",
      "999   [de/best/2, de/best/2, de/best/2, de/best/2, d...   \n",
      "1000  [de/best/2, de/best/2, de/best/2, de/best/2, d...   \n",
      "\n",
      "                                                 used_F  \\\n",
      "0                                                   NaN   \n",
      "1     [0.3704646504723679, 1.8585828346054278, 1.890...   \n",
      "2     [1.929764158679405, 0.2826280995918409, 0.1861...   \n",
      "3     [0.7495870621652834, 1.366113237792033, 0.1409...   \n",
      "4     [0.24480802097731913, 0.11626121002979817, 1.5...   \n",
      "...                                                 ...   \n",
      "996   [1.244858278066978, 1.7166695278738298, 1.8306...   \n",
      "997   [1.1216118400216137, 0.43817168545340035, 0.05...   \n",
      "998   [1.9280697648648344, 0.6532625226695288, 0.916...   \n",
      "999   [1.0715368707836819, 0.3956121311708527, 1.094...   \n",
      "1000  [0.638844432059589, 0.9626559937144874, 0.5855...   \n",
      "\n",
      "                                                used_CX  \\\n",
      "0                                                         \n",
      "1     [bin, bin, bin, bin, bin, bin, bin, bin, bin, ...   \n",
      "2     [bin, bin, bin, bin, bin, bin, bin, bin, bin, ...   \n",
      "3     [bin, bin, bin, bin, bin, bin, bin, bin, bin, ...   \n",
      "4     [bin, bin, bin, bin, bin, bin, bin, bin, bin, ...   \n",
      "...                                                 ...   \n",
      "996   [bin, bin, bin, bin, bin, bin, bin, bin, bin, ...   \n",
      "997   [bin, bin, bin, bin, bin, bin, bin, bin, bin, ...   \n",
      "998   [bin, bin, bin, bin, bin, bin, bin, bin, bin, ...   \n",
      "999   [bin, bin, bin, bin, bin, bin, bin, bin, bin, ...   \n",
      "1000  [bin, bin, bin, bin, bin, bin, bin, bin, bin, ...   \n",
      "\n",
      "                                                used_CR     f_error  \n",
      "0                                                   NaN  389.090012  \n",
      "1     [0.4012595008036087, 0.09961493022127133, 0.86...  389.090012  \n",
      "2     [0.6464559113657224, 0.16121821329251806, 0.19...  389.090012  \n",
      "3     [0.4286859808129494, 0.6009477895248134, 0.157...  389.090012  \n",
      "4     [0.15966305092308175, 0.9418834886956645, 0.30...  334.548039  \n",
      "...                                                 ...         ...  \n",
      "996   [0.0021730418971608323, 0.9440408288781463, 0....    0.035167  \n",
      "997   [0.561274123409868, 0.5394509159486024, 0.2806...    0.035167  \n",
      "998   [0.21650473618451294, 0.25724261806538384, 0.7...    0.035167  \n",
      "999   [0.605855385188013, 0.506470030789305, 0.33082...    0.035167  \n",
      "1000  [0.35232702402629523, 0.5658675664309671, 0.99...    0.035167  \n",
      "\n",
      "[1001 rows x 12 columns]\n"
     ]
    }
   ],
   "source": [
    "print(\"\\tElapsed Time: {:.2f}s\".format(tok-tik))\n",
    "print(\"\\tCalculated results:\", results)\n",
    "print(\"\\tTheoretical optimal value:\", problem.f_opt_theory)\n",
    "print(\"\\tRelative error:\", results[1]-problem.f_opt_theory)\n",
    "\n",
    "print(optimizer.history) # show the iteration history"
   ]
  }
 ],
 "metadata": {
  "kernelspec": {
   "display_name": "Python 3.9.13 ('hbai')",
   "language": "python",
   "name": "python3"
  },
  "language_info": {
   "codemirror_mode": {
    "name": "ipython",
    "version": 3
   },
   "file_extension": ".py",
   "mimetype": "text/x-python",
   "name": "python",
   "nbconvert_exporter": "python",
   "pygments_lexer": "ipython3",
   "version": "3.9.13"
  },
  "orig_nbformat": 4,
  "vscode": {
   "interpreter": {
    "hash": "4a6967e431fc27bad3407b953900d043327b62aeb5fba60f33f4a3a96a7c2ba4"
   }
  }
 },
 "nbformat": 4,
 "nbformat_minor": 2
}
